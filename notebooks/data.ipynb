{
 "cells": [
  {
   "cell_type": "markdown",
   "metadata": {},
   "source": [
    "# Data Process Pipeline"
   ]
  },
  {
   "cell_type": "markdown",
   "metadata": {},
   "source": [
    "First, you should add hosts in your ~/.ssh/config file"
   ]
  },
  {
   "cell_type": "code",
   "execution_count": 105,
   "metadata": {},
   "outputs": [],
   "source": [
    "import os\n",
    "import paramiko\n",
    "\n",
    "HOSTS = [\"h800-80\", \"h800-81\", \"h800-82\", \"h800-83\", \"h800-84\", \"h800-85\", \"h800-86\", \"h800-170\", \"h800-171\"]\n",
    "\n",
    "# load from ~/.ssh/config\n",
    "ssh_config = paramiko.SSHConfig()\n",
    "user_config_file = os.path.expanduser(\"~/.ssh/config\")\n",
    "if os.path.exists(user_config_file):\n",
    "    with open(user_config_file) as f:\n",
    "        ssh_config.parse(f)\n",
    "\n",
    "\n",
    "def get_ssh_config(hostname):\n",
    "    # get the configuration for the host\n",
    "    user_config = ssh_config.lookup(hostname)\n",
    "    user_config\n",
    "    cfg = {\n",
    "        \"hostname\": user_config[\"hostname\"],\n",
    "        \"username\": user_config[\"user\"],\n",
    "        \"port\": int(user_config[\"port\"]),\n",
    "        \"key_filename\": user_config[\"identityfile\"],\n",
    "    }\n",
    "    return cfg\n",
    "\n",
    "\n",
    "def connect(hostname):\n",
    "    cfg = get_ssh_config(hostname)\n",
    "    # connect\n",
    "    client = paramiko.SSHClient()\n",
    "    client.set_missing_host_key_policy(paramiko.AutoAddPolicy())\n",
    "    client.connect(**cfg)\n",
    "    return client\n",
    "\n",
    "\n",
    "def run_command(command, hostname, get_pty=True, log=True, nohup=False, log_file=None):\n",
    "    client = connect(hostname)\n",
    "    command = f'bash -ic \"{command}\"' if get_pty else command\n",
    "    if log_file:\n",
    "        command = f'{command} > {log_file} 2>&1'\n",
    "    if nohup:\n",
    "        command = f'nohup {command} &'\n",
    "    stdin, stdout, stderr = client.exec_command(command, get_pty=get_pty)\n",
    "    stdout_str = stdout.read().decode()\n",
    "    stderr_str = stderr.read().decode()\n",
    "    if log:\n",
    "        print(\"HOST:\", hostname)\n",
    "        if stdout_str:\n",
    "            print(\"==== STDOUT ====\\n\", stdout_str)\n",
    "        if stderr_str:\n",
    "            print(\"==== STDERR ====\\n\", stderr_str)\n",
    "    client.close()\n",
    "\n",
    "\n",
    "def run_command_all_hosts(command, hosts=HOSTS):\n",
    "    for hostname in hosts:\n",
    "        run_command(command, hostname)"
   ]
  },
  {
   "cell_type": "code",
   "execution_count": 96,
   "metadata": {},
   "outputs": [],
   "source": [
    "def nvidia_smi(host):\n",
    "    if host:\n",
    "        run_command(\"nvidia-smi\", host)\n",
    "    else:\n",
    "        run_command_all_hosts(\"nvidia-smi\")\n",
    "\n",
    "\n",
    "def nvitop(host=None):\n",
    "    if host:\n",
    "        run_command(f\"/home/zhaowangbo/.local/bin/nvitop -1\", host)\n",
    "    else:\n",
    "        run_command_all_hosts(\"/home/zhaowangbo/.local/bin/nvitop -1\")\n",
    "\n",
    "\n",
    "def ps(host=None, interest=\"python|sleep|torchrun|colossal\"):\n",
    "    if host:\n",
    "        if interest is None:\n",
    "            run_command(\"ps ux | cat\", host)\n",
    "        else:\n",
    "            run_command(f\"ps ux | cat | grep --color=never -E '{interest}'\", host)\n",
    "    else:\n",
    "        if interest is None:\n",
    "            run_command_all_hosts(\"ps ux | cat\")\n",
    "        else:\n",
    "            run_command_all_hosts(f\"ps ux | cat | grep --color=never -E '{interest}'\")"
   ]
  },
  {
   "cell_type": "code",
   "execution_count": 106,
   "metadata": {},
   "outputs": [],
   "source": [
    "OPEN_SORA_HOME = \"/home/zhaowangbo/open-sora\"\n",
    "def convert_dataset_cmd(input_dir, output_file, datatype=\"video\"):\n",
    "    commands = []\n",
    "    commands.append(f'cd {OPEN_SORA_HOME}')\n",
    "    # makedirs\n",
    "    output_dir = os.path.dirname(output_file)\n",
    "    commands.append(f'mkdir -p {output_dir}')\n",
    "    commands.append(f'python -m tools.datasets.convert {datatype} {input_dir} --output {output_dir}')\n",
    "    return \" && \".join(commands), output_file"
   ]
  },
  {
   "cell_type": "code",
   "execution_count": 107,
   "metadata": {},
   "outputs": [],
   "source": [
    "host = \"h800-83\"\n",
    "log_file = \"./logs/data-panda-16-split.log\"\n",
    "cmd, output_file = convert_dataset_cmd(\"/mnt/disk1/data-panda/16\", \"/mnt/hdd/data/panda70m_by/raw/meta/split-16/meta.csv\")"
   ]
  },
  {
   "cell_type": "code",
   "execution_count": 109,
   "metadata": {},
   "outputs": [
    {
     "name": "stdout",
     "output_type": "stream",
     "text": [
      "HOST: h800-83\n",
      "==== STDOUT ====\n",
      " \n"
     ]
    }
   ],
   "source": [
    "run_command(cmd, host, nohup=True, log_file=log_file)"
   ]
  },
  {
   "cell_type": "code",
   "execution_count": 108,
   "metadata": {},
   "outputs": [
    {
     "data": {
      "text/plain": [
       "'cd /home/zhaowangbo/open-sora && mkdir -p /mnt/hdd/data/panda70m_by/raw/meta/split-16 && python -m tools.datasets.convert video /mnt/disk1/data-panda/16 --output /mnt/hdd/data/panda70m_by/raw/meta/split-16'"
      ]
     },
     "execution_count": 108,
     "metadata": {},
     "output_type": "execute_result"
    }
   ],
   "source": [
    "cmd"
   ]
  },
  {
   "cell_type": "code",
   "execution_count": 102,
   "metadata": {},
   "outputs": [
    {
     "name": "stdout",
     "output_type": "stream",
     "text": [
      "HOST: h800-83\n",
      "==== STDOUT ====\n",
      " zhaowan+ 2928070 10.0  0.0  14216  5556 pts/13   Ss   15:25   0:00 bash -ic ps ux | cat | grep --color=never -E 'convert'\n",
      "zhaowan+ 2929492  0.0  0.0  12116   664 pts/13   S+   15:25   0:00 grep --color=auto --color=never -E convert\n",
      "\n"
     ]
    }
   ],
   "source": [
    "ps(host, interest=\"convert\")"
   ]
  },
  {
   "cell_type": "code",
   "execution_count": 1819,
   "metadata": {},
   "outputs": [],
   "source": [
    "RUN_CONVERT =               False\n",
    "RUN_ZERO_FRAME =            False\n",
    "RUN_CORRUPTED =             True\n",
    "RUN_ZERO_FRAME_CORRUPTED =  False\n",
    "RUN_COPY_OVER_CAPTION =     False\n",
    "\n",
    "RUN_AESTHETICS =            False\n",
    "RUN_COLLATE_AESTHETICS =    False\n",
    "RUN_OPTICAL_FLOW =          False\n",
    "RUN_AES_FLOW =              False\n",
    "\n",
    "captioning_input_file = 'meta_remove_corrupted_aes_flow.csv'; RUN_CAPTIONING =            False\n",
    "RUN_COLLATE_CAPTIONING =    False; \n",
    "RUN_COLLATE_CAPTIONING_INTERRUPTED =    False\n",
    "\n",
    "RUN_INTERSECT_INFO =        False\n",
    "\n",
    "RUN_CLEAN_REMOVE_LLAVA =    False\n",
    "RUN_CLEAN_REMOVE =          False\n",
    "clean_remove_input_path = 'meta_remove_corrupted_aes_flow_caption.csv'\n",
    "clean_remove_output_path = 'meta_remove_corrupted_aes_flow_caption_cleaned_and_removed.csv'"
   ]
  },
  {
   "cell_type": "markdown",
   "metadata": {},
   "source": [
    "### Convert to meta and collate"
   ]
  },
  {
   "cell_type": "code",
   "execution_count": 1821,
   "metadata": {},
   "outputs": [],
   "source": [
    "if RUN_CONVERT:\n",
    "    nohup_filename = \"outs/\" + NAME + \"_convert_video.out\"\n",
    "\n",
    "    command = \\\n",
    "        'cd /home/tom/Open-Sora-dev/ && ' + \\\n",
    "        '/home/zhaowangbo/.conda/envs/opensora/bin/python convert_videos.py ' + \\\n",
    "        ' ' + DATA_PATH + ' ' + \\\n",
    "        ' ' + PATH + ' > ' + nohup_filename + ' 2>&1 &'\n",
    "    print(command)\n",
    "    output = client.exec_command(command)"
   ]
  },
  {
   "cell_type": "markdown",
   "metadata": {},
   "source": [
    "### Filter out zero-frame and corrupted"
   ]
  },
  {
   "cell_type": "code",
   "execution_count": 1822,
   "metadata": {},
   "outputs": [],
   "source": [
    "if RUN_CORRUPTED:\n",
    "    nohup_filename = \"outs/\" + NAME + \"_filter_corrupted.out\"\n",
    "    command = \\\n",
    "        'cd /home/tom/Open-Sora-dev/ && ' + \\\n",
    "        'nohup /home/zhaowangbo/.conda/envs/opensora/bin/python -m tools.datasets.csvutil ' + \\\n",
    "        PATH + 'meta.csv ' + \\\n",
    "        '--remove-corrupted' + ' > ' + nohup_filename + ' 2>&1 &'\n",
    "    output = client.exec_command(command)\n"
   ]
  },
  {
   "cell_type": "code",
   "execution_count": 1823,
   "metadata": {},
   "outputs": [],
   "source": [
    "if RUN_ZERO_FRAME:\n",
    "    nohup_filename = \"outs/\" + NAME + \"_filter_zero_frame.out\"\n",
    "    command = \\\n",
    "        'cd /home/tom/Open-Sora-dev/ && ' + \\\n",
    "        'nohup /home/zhaowangbo/.conda/envs/opensora/bin/python -m tools.datasets.csvutil ' + \\\n",
    "        PATH + 'meta_remove_corrupted.csv ' + \\\n",
    "        '--info --fmin 1 --output ' + \\\n",
    "        PATH + 'meta_remove_corrupted.csv' + ' > ' + nohup_filename + ' 2>&1 &'\n",
    "    output = client.exec_command(command)\n"
   ]
  },
  {
   "cell_type": "code",
   "execution_count": 1824,
   "metadata": {},
   "outputs": [],
   "source": [
    "if RUN_ZERO_FRAME_CORRUPTED:\n",
    "    out_filename = \"outs/\" + NAME + \"_filter_zero_frame_corrupted.out\"\n",
    "    command = \\\n",
    "        'cd /home/tom/Open-Sora-dev/ && ' + \\\n",
    "        '/home/zhaowangbo/.conda/envs/opensora/bin/python -m tools.datasets.csvutil ' + \\\n",
    "        PATH + 'meta.csv ' + \\\n",
    "        '--info --fmin 1 --output ' + \\\n",
    "        PATH + 'meta.csv ' + '> ' + out_filename + ' 2>&1 && ' + \\\n",
    "        'echo \"[DONE]: filter zero frame\" >> ' + out_filename + ' && ' + \\\n",
    "        '/home/zhaowangbo/.conda/envs/opensora/bin/python -m tools.datasets.csvutil ' + \\\n",
    "        PATH + 'meta.csv ' + \\\n",
    "        '--remove-corrupted' + ' >> ' + out_filename + ' 2>&1 && ' + \\\n",
    "        'echo \"[DONE]: filter corrupted\" >> ' + out_filename\n",
    "    print(command)\n",
    "    output = client.exec_command(command)"
   ]
  },
  {
   "cell_type": "code",
   "execution_count": null,
   "metadata": {},
   "outputs": [],
   "source": []
  },
  {
   "cell_type": "markdown",
   "metadata": {},
   "source": [
    "### Run copy over caption"
   ]
  },
  {
   "cell_type": "code",
   "execution_count": 1825,
   "metadata": {},
   "outputs": [],
   "source": [
    "if RUN_COPY_OVER_CAPTION:\n",
    "    nohup_filename = \"outs/\" + NAME + \"_copy_over_caption.out\"\n",
    "    command = \\\n",
    "        'cd /home/tom/Open-Sora-dev/ && ' + \\\n",
    "        'nohup /home/zhaowangbo/.conda/envs/opensora/bin/python copy_over_caption.py' + \\\n",
    "        ' ' + PATH + 'meta.csv > ' + nohup_filename + ' 2>&1 &'\n",
    "    output = client.exec_command(command)"
   ]
  },
  {
   "cell_type": "markdown",
   "metadata": {},
   "source": [
    "### Run aesthetics and collate"
   ]
  },
  {
   "cell_type": "code",
   "execution_count": 1826,
   "metadata": {},
   "outputs": [],
   "source": [
    "if RUN_AESTHETICS:\n",
    "    nohup_filename = \"outs/\" + NAME + \"_aes.out\"\n",
    "    command = \\\n",
    "        'cd /home/tom/Open-Sora-dev/ && ' + \\\n",
    "        'nohup /home/zhaowangbo/.conda/envs/opensora/bin/torchrun --nproc_per_node 8 -m tools.scoring.aesthetic.inference ' + \\\n",
    "        PATH + 'meta_remove_corrupted.csv ' + \\\n",
    "        '--bs 1024 --num_workers 16 > ' + \\\n",
    "        nohup_filename + ' 2>&1 &'\n",
    "    output = client.exec_command(command)\n"
   ]
  },
  {
   "cell_type": "code",
   "execution_count": 1827,
   "metadata": {},
   "outputs": [],
   "source": [
    "if RUN_COLLATE_AESTHETICS:\n",
    "    command = \\\n",
    "        'cd /home/tom/Open-Sora-dev/ && ' + \\\n",
    "        'nohup /home/zhaowangbo/.conda/envs/opensora/bin/python -m tools.datasets.csvutil ' + \\\n",
    "        PATH + 'meta_remove_corrupted_aes_part*.csv ' + \\\n",
    "        '--output ' + \\\n",
    "        PATH + 'meta_remove_corrupted_aes.csv '\n",
    "    output = client.exec_command(command)\n",
    "    # this takes priority! delete all meta_remove_corrupted_aes_part*.csv\n",
    "    # output = client.exec_command(\"rm \" + PATH + \"meta_remove_corrupted_aes_part*.csv\")"
   ]
  },
  {
   "cell_type": "markdown",
   "metadata": {},
   "source": [
    "### Run optical flow\n"
   ]
  },
  {
   "cell_type": "code",
   "execution_count": 1828,
   "metadata": {},
   "outputs": [],
   "source": [
    "if RUN_OPTICAL_FLOW:\n",
    "    command = \\\n",
    "        'cd /home/tom/Open-Sora-dev/ && ' + \\\n",
    "        'nohup /home/zhaowangbo/.conda/envs/llava2/bin/torchrun --standalone --nproc_per_node 8 -m tools.scoring.optical_flow.inference_parallel ' + \\\n",
    "        PATH + 'meta_remove_corrupted_aes.csv > ' + \\\n",
    "        \"outs/\" + NAME + \"_flow.out 2>&1 &\"\n",
    "    print(command)\n",
    "    output = client.exec_command(command)\n"
   ]
  },
  {
   "cell_type": "markdown",
   "metadata": {},
   "source": [
    "### Run aesthetics and optical flow\n"
   ]
  },
  {
   "cell_type": "code",
   "execution_count": 1829,
   "metadata": {},
   "outputs": [],
   "source": [
    "if RUN_AES_FLOW:\n",
    "    out_filename = \"outs/\" + NAME + \"_aes_flow.out\"\n",
    "    command = \\\n",
    "        'cd /home/tom/Open-Sora-dev/ && ' + \\\n",
    "        '/home/zhaowangbo/.conda/envs/opensora/bin/torchrun --nproc_per_node 8 -m tools.scoring.aesthetic.inference ' + \\\n",
    "        PATH + 'meta_remove_corrupted.csv ' + \\\n",
    "        '--bs 1024 --num_workers 16 > ' + \\\n",
    "        out_filename + ' 2>&1 && ' + \\\n",
    "        'echo \"[DONE]: aesthetic\" >> ' + out_filename + ' && ' + \\\n",
    "        '/home/zhaowangbo/.conda/envs/opensora/bin/python -m tools.datasets.csvutil ' + \\\n",
    "        PATH + 'meta_remove_corrupted_aes_part*.csv ' + \\\n",
    "        '--output ' + \\\n",
    "        PATH + 'meta_remove_corrupted_aes.csv ' + ' >> ' + out_filename + ' 2>&1 && ' + \\\n",
    "        'echo \"[DONE]: collate aesthetic\" >> ' + out_filename + ' && ' + \\\n",
    "        '/home/zhaowangbo/.conda/envs/llava2/bin/torchrun --standalone --nproc_per_node 8 -m tools.scoring.optical_flow.inference_parallel ' + \\\n",
    "        PATH + 'meta_remove_corrupted_aes.csv >> ' + \\\n",
    "        out_filename + \" 2>&1 && \" + \\\n",
    "        'echo \"[DONE]: flow\" >> ' + out_filename\n",
    "        # CONTINUE \n",
    "    output = client.exec_command(command)"
   ]
  },
  {
   "cell_type": "markdown",
   "metadata": {},
   "source": [
    "### Run captioning and collate\n"
   ]
  },
  {
   "cell_type": "code",
   "execution_count": 1830,
   "metadata": {},
   "outputs": [],
   "source": [
    "if RUN_CAPTIONING:\n",
    "    out_filename = \"outs/\" + NAME + \"_caption.out\"\n",
    "    command = \\\n",
    "        'cd /home/tom/Open-Sora-dev/ && ' + \\\n",
    "        '/home/zhaowangbo/.conda/envs/llava2/bin/torchrun --nproc_per_node 8 ' + \\\n",
    "        '--standalone ' + \\\n",
    "        '-m tools.caption.caption_llava ' + \\\n",
    "        PATH + captioning_input_file + ' ' + \\\n",
    "        '--tp-size 2 ' + \\\n",
    "        '--dp-size 4 ' + \\\n",
    "        '--model-path liuhaotian/llava-v1.6-mistral-7b ' + \\\n",
    "        '--bs 16 ' + \\\n",
    "        '--prompt video > ' + \\\n",
    "        out_filename + \" 2>&1 && \" + \\\n",
    "        '/home/zhaowangbo/.conda/envs/llava2/bin/python -m tools.datasets.csvutil ' + \\\n",
    "        PATH + 'meta_remove_corrupted_aes_flow_caption_part*.csv ' + \\\n",
    "        '--output ' + \\\n",
    "        PATH + 'meta_remove_corrupted_aes_flow_caption.csv ' + ' >> ' + out_filename + ' 2>&1 '\n",
    "    print(command)\n",
    "    output = client.exec_command(command)"
   ]
  },
  {
   "cell_type": "code",
   "execution_count": 1831,
   "metadata": {},
   "outputs": [],
   "source": [
    "# cd /home/tom/Open-Sora-dev/ && /home/zhaowangbo/.conda/envs/llava2/bin/torchrun --nproc_per_node 8 --standalone -m tools.caption.caption_llava /mnt/hdd/data/v2text/raw/meta/split-18/meta_remove_corrupted_aes_flow.csv --tp-size 2 --dp-size 4 --model-path liuhaotian/llava-v1.6-mistral-7b --bs 16 --prompt video > outs/split-18_caption.out 2>&1 && /home/zhaowangbo/.conda/envs/llava2/bin/python -m tools.datasets.csvutil /mnt/hdd/data/v2text/raw/meta/split-18/meta_remove_corrupted_aes_flow_caption_part*.csv --output /mnt/hdd/data/v2text/raw/meta/split-18/meta_remove_corrupted_aes_flow_caption.csv >> outs/split-18_caption.out 2>&1 && "
   ]
  },
  {
   "cell_type": "code",
   "execution_count": 1832,
   "metadata": {},
   "outputs": [],
   "source": [
    "if RUN_COLLATE_CAPTIONING_INTERRUPTED:\n",
    "    command = \\\n",
    "        'cd /home/tom/Open-Sora-dev/ && ' + \\\n",
    "        '/home/zhaowangbo/.conda/envs/llava2/bin/python -m tools.datasets.csvutil ' + \\\n",
    "        PATH + 'meta_remove_corrupted_aes_flow_remaining_caption_part*.csv ' + \\\n",
    "        '--output ' + \\\n",
    "        PATH + 'meta_remove_corrupted_aes_flow_remaining_caption.csv '\n",
    "    output = client.exec_command(command)\n",
    "    command = \\\n",
    "        'cd /home/tom/Open-Sora-dev/ && ' + \\\n",
    "        '/home/zhaowangbo/.conda/envs/llava2/bin/python -m tools.datasets.csvutil ' + \\\n",
    "        PATH + 'meta_remove_corrupted_aes_flow_remaining_caption.csv ' + \\\n",
    "        PATH + 'meta_remove_corrupted_aes_flow_caption_partial.csv ' + \\\n",
    "        '--output ' + \\\n",
    "        PATH + 'meta_remove_corrupted_aes_flow_caption.csv '\n",
    "    output = client.exec_command(command)\n",
    "    "
   ]
  },
  {
   "cell_type": "markdown",
   "metadata": {},
   "source": [
    "### Clean and remove"
   ]
  },
  {
   "cell_type": "code",
   "execution_count": 1833,
   "metadata": {},
   "outputs": [],
   "source": [
    "if RUN_CLEAN_REMOVE_LLAVA:\n",
    "    out_filename = \"outs/\" + NAME + \"_clean_remove_llava.out\"\n",
    "    command = \\\n",
    "        'cd /home/tom/Open-Sora-dev/ && ' + \\\n",
    "        '/home/zhaowangbo/.conda/envs/opensora/bin/python -m tools.datasets.csvutil ' + \\\n",
    "        PATH + clean_remove_input_path + ' ' + \\\n",
    "        '--clean-caption --remove-caption-prefix --remove-empty-caption ' + \\\n",
    "        '--output ' + \\\n",
    "        PATH + clean_remove_output_path + ' > ' + out_filename + ' 2>&1 && ' + \\\n",
    "        'echo \"[DONE]: RUN_CLEAN_REMOVE_LLAVA\" >> ' + out_filename\n",
    "    output = client.exec_command(command)"
   ]
  },
  {
   "cell_type": "code",
   "execution_count": 1834,
   "metadata": {},
   "outputs": [],
   "source": [
    "if RUN_CLEAN_REMOVE:\n",
    "    out_filename = \"outs/\" + NAME + \"_clean_remove.out\"\n",
    "    command = \\\n",
    "        'cd /home/tom/Open-Sora-dev/ && ' + \\\n",
    "        '/home/zhaowangbo/.conda/envs/opensora/bin/python -m tools.datasets.csvutil ' + \\\n",
    "        PATH + clean_remove_input_path + ' ' + \\\n",
    "        '--clean-caption --remove-caption-prefix --remove-empty-caption ' + \\\n",
    "        '--output ' + \\\n",
    "        PATH + clean_remove_output_path + ' > ' + out_filename + ' 2>&1 && ' + \\\n",
    "        'echo \"[DONE]: collate RUN_CLEAN_REMOVE\" >> ' + out_filename\n",
    "    output = client.exec_command(command)"
   ]
  },
  {
   "cell_type": "markdown",
   "metadata": {},
   "source": [
    "### Intersect"
   ]
  },
  {
   "cell_type": "code",
   "execution_count": 1835,
   "metadata": {},
   "outputs": [],
   "source": [
    "# python -m tools.datasets.csvutil ~/dataset/HD-VG-130M/meta_remove_corrupted_aes.csv --intersect ~/dataset/HD-VG-130M/meta_remove_corrupted_flow.csv --output ~/dataset/HD-VG-130M/meta_remove_corrupted_aes_flow.csv\n",
    "if RUN_INTERSECT_INFO:\n",
    "    command = \\\n",
    "        'cd /home/tom/Open-Sora-dev/ && ' + \\\n",
    "        '/home/zhaowangbo/.conda/envs/opensora/bin/python -m tools.datasets.csvutil ' + \\\n",
    "        PATH + 'meta_remove_corrupted.csv ' + \\\n",
    "        '--intersect ' + PATH + 'meta_remove_corrupted_aes_flow_caption.csv ' + \\\n",
    "        '--output ' + PATH + 'meta_remove_corrupted_aes_flow_caption.csv '\n",
    "    output = client.exec_command(command)"
   ]
  },
  {
   "cell_type": "code",
   "execution_count": 1836,
   "metadata": {},
   "outputs": [],
   "source": [
    "# # # remove empty captions and process captions (may need to re-caption lost ones)\n",
    "\n",
    "# # --remove-caption-prefix: llava has a prefix, remove it\n",
    "\n",
    "# # --clean-caption makes it T5 friendly\n",
    "\n",
    "# python -m tools.datasets.csvutil ~/dataset/meta_caption.csv --clean-caption --remove-caption-prefix --remove-empty-caption --output ~/dataset/meta_caption_processed.csv\n",
    "\n",
    "# python -m tools.datasets.csvutil ~/dataset/meta_caption.csv --clean-caption --remove-caption-prefix --remove-empty-caption --output ~/dataset/meta_caption_processed.csv\n",
    "\n",
    "# # # 4. Sanity check & prepare for training\n",
    "# # # sanity check\n",
    "# # python -m tools.datasets.csvutil ~/dataset/meta_caption_processed.csv --info --output ~/dataset/meta_ready.csv\n"
   ]
  },
  {
   "cell_type": "code",
   "execution_count": 1837,
   "metadata": {},
   "outputs": [],
   "source": [
    "# command1 = 'conda activate /home/zhaowangbo/.conda/envs/llava2'\n",
    "# command2 = ' cd ~/Open-Sora-dev'\n",
    "# command3 = 'nohup torchrun --nproc_per_node 8 --standalone -m tools.caption.caption_llava /mnt/hdd/data/unsplash-full/resize_4k/meta/meta_machine_1.csv --tp-size 2 --dp-size 4 --bs 8 > llava_unsplash-full_machine_1.out &'\n",
    "# stdin, stdout, stderr = client.exec_command(command1)\n",
    "    # stdin, stdout, stderr = client.exec_command(command2)\n",
    "    # Execute the command\n",
    "    # stdin, stdout, stderr = client.exec_command(command3)\n",
    "    # output = stdout.read().decode()\n",
    "    # print(output)\n",
    "    # error = stderr.read().decode()\n",
    "    # print(error)\n"
   ]
  }
 ],
 "metadata": {
  "kernelspec": {
   "display_name": "Python 3",
   "language": "python",
   "name": "python3"
  },
  "language_info": {
   "codemirror_mode": {
    "name": "ipython",
    "version": 3
   },
   "file_extension": ".py",
   "mimetype": "text/x-python",
   "name": "python",
   "nbconvert_exporter": "python",
   "pygments_lexer": "ipython3",
   "version": "3.9.13"
  }
 },
 "nbformat": 4,
 "nbformat_minor": 2
}
